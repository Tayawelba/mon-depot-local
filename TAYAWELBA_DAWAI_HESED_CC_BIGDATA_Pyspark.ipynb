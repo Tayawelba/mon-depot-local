{
  "nbformat": 4,
  "nbformat_minor": 0,
  "metadata": {
    "colab": {
      "provenance": []
    },
    "kernelspec": {
      "name": "python3",
      "display_name": "Python 3"
    },
    "language_info": {
      "name": "python"
    }
  },
  "cells": [
    {
      "cell_type": "markdown",
      "source": [
        "# CC DE BIGDATA - pyspark\n",
        "\n",
        "Noms : **TAYAWELBA DAWAI HESED**\n",
        "\n",
        "Classe : **Master 2 IADB**."
      ],
      "metadata": {
        "id": "4fjh86UyQ6H0"
      }
    },
    {
      "cell_type": "code",
      "execution_count": 1,
      "metadata": {
        "colab": {
          "base_uri": "https://localhost:8080/"
        },
        "id": "rqHjEa1nXMBe",
        "outputId": "358931c3-3594-4363-d218-41d3ef565749"
      },
      "outputs": [
        {
          "output_type": "stream",
          "name": "stdout",
          "text": [
            "Requirement already satisfied: pyspark==3.5.1 in /usr/local/lib/python3.10/dist-packages (3.5.1)\n",
            "Requirement already satisfied: py4j==0.10.9.7 in /usr/local/lib/python3.10/dist-packages (from pyspark==3.5.1) (0.10.9.7)\n",
            "Requirement already satisfied: findspark==2.0.1 in /usr/local/lib/python3.10/dist-packages (2.0.1)\n"
          ]
        }
      ],
      "source": [
        "!pip install pyspark==3.5.1\n",
        "\n",
        "!pip install findspark==2.0.1"
      ]
    },
    {
      "cell_type": "code",
      "source": [
        "# Importer les bibliothèques PySpark\n",
        "import pyspark\n",
        "from pyspark.sql import SparkSession"
      ],
      "metadata": {
        "id": "l-4YV21HXPAO"
      },
      "execution_count": 2,
      "outputs": []
    },
    {
      "cell_type": "code",
      "source": [
        "# Initialiser Spark\n",
        "import findspark\n",
        "findspark.init()"
      ],
      "metadata": {
        "id": "vyYFVNbIXPDT"
      },
      "execution_count": 3,
      "outputs": []
    },
    {
      "cell_type": "code",
      "source": [
        "# Créer une session Spark\n",
        "spark = SparkSession.builder.appName(\"Regression\").getOrCreate()\n"
      ],
      "metadata": {
        "id": "eWzE8v3MXPGi"
      },
      "execution_count": 4,
      "outputs": []
    },
    {
      "cell_type": "code",
      "source": [
        "# Message de test\n",
        "df = spark.sql(\"select 'Spark' as hello\")\n",
        "df.show()\n"
      ],
      "metadata": {
        "colab": {
          "base_uri": "https://localhost:8080/"
        },
        "id": "gLSVLEM7XPJq",
        "outputId": "130f3328-24c4-4dae-a82f-bfae7f82abfb"
      },
      "execution_count": 5,
      "outputs": [
        {
          "output_type": "stream",
          "name": "stdout",
          "text": [
            "+-----+\n",
            "|hello|\n",
            "+-----+\n",
            "|Spark|\n",
            "+-----+\n",
            "\n"
          ]
        }
      ]
    },
    {
      "cell_type": "code",
      "source": [
        "# Bibliothèques de préparation de données\n",
        "from pyspark.sql.functions import *\n",
        "from pyspark.sql.types import *\n",
        "from pyspark.ml.feature import VectorAssembler\n",
        "from pyspark.ml.feature import StringIndexer"
      ],
      "metadata": {
        "id": "eMnLktyIXPMu"
      },
      "execution_count": 6,
      "outputs": []
    },
    {
      "cell_type": "code",
      "source": [
        "# Bibliothèques d'apprentissage et d'évaluation\n",
        "from pyspark.ml.regression import *\n",
        "from pyspark.ml.evaluation import *\n",
        "from pyspark.ml.tuning import CrossValidator, ParamGridBuilder\n"
      ],
      "metadata": {
        "id": "OApwFaz2XPPa"
      },
      "execution_count": 7,
      "outputs": []
    },
    {
      "cell_type": "code",
      "source": [
        "# Chargement du jeu de données\n",
        "df = spark.read.csv(\"/content/Concrete.csv\", inferSchema=True, header=True)\n"
      ],
      "metadata": {
        "id": "If6llaH4XPSO"
      },
      "execution_count": 8,
      "outputs": []
    },
    {
      "cell_type": "code",
      "source": [
        "# Afficher les 5 premières lignes\n",
        "df.limit(5).toPandas()\n"
      ],
      "metadata": {
        "colab": {
          "base_uri": "https://localhost:8080/",
          "height": 206
        },
        "id": "_0JjpOkKXPVA",
        "outputId": "3186aa8c-f264-421e-99bc-33827cec6e95"
      },
      "execution_count": 9,
      "outputs": [
        {
          "output_type": "execute_result",
          "data": {
            "text/plain": [
              "   cement   slag  flyash  water  superplasticizer  coarseaggregate  \\\n",
              "0   540.0    0.0     0.0  162.0               2.5           1040.0   \n",
              "1   540.0    0.0     0.0  162.0               2.5           1055.0   \n",
              "2   332.5  142.5     0.0  228.0               0.0            932.0   \n",
              "3   332.5  142.5     0.0  228.0               0.0            932.0   \n",
              "4   198.6  132.4     0.0  192.0               0.0            978.4   \n",
              "\n",
              "   fineaggregate  age  csMPa  \n",
              "0          676.0   28  79.99  \n",
              "1          676.0   28  61.89  \n",
              "2          594.0  270  40.27  \n",
              "3          594.0  365  41.05  \n",
              "4          825.5  360  44.30  "
            ],
            "text/html": [
              "\n",
              "  <div id=\"df-148560b5-d83c-4e87-8489-284a3d15f8fb\" class=\"colab-df-container\">\n",
              "    <div>\n",
              "<style scoped>\n",
              "    .dataframe tbody tr th:only-of-type {\n",
              "        vertical-align: middle;\n",
              "    }\n",
              "\n",
              "    .dataframe tbody tr th {\n",
              "        vertical-align: top;\n",
              "    }\n",
              "\n",
              "    .dataframe thead th {\n",
              "        text-align: right;\n",
              "    }\n",
              "</style>\n",
              "<table border=\"1\" class=\"dataframe\">\n",
              "  <thead>\n",
              "    <tr style=\"text-align: right;\">\n",
              "      <th></th>\n",
              "      <th>cement</th>\n",
              "      <th>slag</th>\n",
              "      <th>flyash</th>\n",
              "      <th>water</th>\n",
              "      <th>superplasticizer</th>\n",
              "      <th>coarseaggregate</th>\n",
              "      <th>fineaggregate</th>\n",
              "      <th>age</th>\n",
              "      <th>csMPa</th>\n",
              "    </tr>\n",
              "  </thead>\n",
              "  <tbody>\n",
              "    <tr>\n",
              "      <th>0</th>\n",
              "      <td>540.0</td>\n",
              "      <td>0.0</td>\n",
              "      <td>0.0</td>\n",
              "      <td>162.0</td>\n",
              "      <td>2.5</td>\n",
              "      <td>1040.0</td>\n",
              "      <td>676.0</td>\n",
              "      <td>28</td>\n",
              "      <td>79.99</td>\n",
              "    </tr>\n",
              "    <tr>\n",
              "      <th>1</th>\n",
              "      <td>540.0</td>\n",
              "      <td>0.0</td>\n",
              "      <td>0.0</td>\n",
              "      <td>162.0</td>\n",
              "      <td>2.5</td>\n",
              "      <td>1055.0</td>\n",
              "      <td>676.0</td>\n",
              "      <td>28</td>\n",
              "      <td>61.89</td>\n",
              "    </tr>\n",
              "    <tr>\n",
              "      <th>2</th>\n",
              "      <td>332.5</td>\n",
              "      <td>142.5</td>\n",
              "      <td>0.0</td>\n",
              "      <td>228.0</td>\n",
              "      <td>0.0</td>\n",
              "      <td>932.0</td>\n",
              "      <td>594.0</td>\n",
              "      <td>270</td>\n",
              "      <td>40.27</td>\n",
              "    </tr>\n",
              "    <tr>\n",
              "      <th>3</th>\n",
              "      <td>332.5</td>\n",
              "      <td>142.5</td>\n",
              "      <td>0.0</td>\n",
              "      <td>228.0</td>\n",
              "      <td>0.0</td>\n",
              "      <td>932.0</td>\n",
              "      <td>594.0</td>\n",
              "      <td>365</td>\n",
              "      <td>41.05</td>\n",
              "    </tr>\n",
              "    <tr>\n",
              "      <th>4</th>\n",
              "      <td>198.6</td>\n",
              "      <td>132.4</td>\n",
              "      <td>0.0</td>\n",
              "      <td>192.0</td>\n",
              "      <td>0.0</td>\n",
              "      <td>978.4</td>\n",
              "      <td>825.5</td>\n",
              "      <td>360</td>\n",
              "      <td>44.30</td>\n",
              "    </tr>\n",
              "  </tbody>\n",
              "</table>\n",
              "</div>\n",
              "    <div class=\"colab-df-buttons\">\n",
              "\n",
              "  <div class=\"colab-df-container\">\n",
              "    <button class=\"colab-df-convert\" onclick=\"convertToInteractive('df-148560b5-d83c-4e87-8489-284a3d15f8fb')\"\n",
              "            title=\"Convert this dataframe to an interactive table.\"\n",
              "            style=\"display:none;\">\n",
              "\n",
              "  <svg xmlns=\"http://www.w3.org/2000/svg\" height=\"24px\" viewBox=\"0 -960 960 960\">\n",
              "    <path d=\"M120-120v-720h720v720H120Zm60-500h600v-160H180v160Zm220 220h160v-160H400v160Zm0 220h160v-160H400v160ZM180-400h160v-160H180v160Zm440 0h160v-160H620v160ZM180-180h160v-160H180v160Zm440 0h160v-160H620v160Z\"/>\n",
              "  </svg>\n",
              "    </button>\n",
              "\n",
              "  <style>\n",
              "    .colab-df-container {\n",
              "      display:flex;\n",
              "      gap: 12px;\n",
              "    }\n",
              "\n",
              "    .colab-df-convert {\n",
              "      background-color: #E8F0FE;\n",
              "      border: none;\n",
              "      border-radius: 50%;\n",
              "      cursor: pointer;\n",
              "      display: none;\n",
              "      fill: #1967D2;\n",
              "      height: 32px;\n",
              "      padding: 0 0 0 0;\n",
              "      width: 32px;\n",
              "    }\n",
              "\n",
              "    .colab-df-convert:hover {\n",
              "      background-color: #E2EBFA;\n",
              "      box-shadow: 0px 1px 2px rgba(60, 64, 67, 0.3), 0px 1px 3px 1px rgba(60, 64, 67, 0.15);\n",
              "      fill: #174EA6;\n",
              "    }\n",
              "\n",
              "    .colab-df-buttons div {\n",
              "      margin-bottom: 4px;\n",
              "    }\n",
              "\n",
              "    [theme=dark] .colab-df-convert {\n",
              "      background-color: #3B4455;\n",
              "      fill: #D2E3FC;\n",
              "    }\n",
              "\n",
              "    [theme=dark] .colab-df-convert:hover {\n",
              "      background-color: #434B5C;\n",
              "      box-shadow: 0px 1px 3px 1px rgba(0, 0, 0, 0.15);\n",
              "      filter: drop-shadow(0px 1px 2px rgba(0, 0, 0, 0.3));\n",
              "      fill: #FFFFFF;\n",
              "    }\n",
              "  </style>\n",
              "\n",
              "    <script>\n",
              "      const buttonEl =\n",
              "        document.querySelector('#df-148560b5-d83c-4e87-8489-284a3d15f8fb button.colab-df-convert');\n",
              "      buttonEl.style.display =\n",
              "        google.colab.kernel.accessAllowed ? 'block' : 'none';\n",
              "\n",
              "      async function convertToInteractive(key) {\n",
              "        const element = document.querySelector('#df-148560b5-d83c-4e87-8489-284a3d15f8fb');\n",
              "        const dataTable =\n",
              "          await google.colab.kernel.invokeFunction('convertToInteractive',\n",
              "                                                    [key], {});\n",
              "        if (!dataTable) return;\n",
              "\n",
              "        const docLinkHtml = 'Like what you see? Visit the ' +\n",
              "          '<a target=\"_blank\" href=https://colab.research.google.com/notebooks/data_table.ipynb>data table notebook</a>'\n",
              "          + ' to learn more about interactive tables.';\n",
              "        element.innerHTML = '';\n",
              "        dataTable['output_type'] = 'display_data';\n",
              "        await google.colab.output.renderOutput(dataTable, element);\n",
              "        const docLink = document.createElement('div');\n",
              "        docLink.innerHTML = docLinkHtml;\n",
              "        element.appendChild(docLink);\n",
              "      }\n",
              "    </script>\n",
              "  </div>\n",
              "\n",
              "\n",
              "<div id=\"df-0617f815-da7f-4795-8f92-f9e83e44228a\">\n",
              "  <button class=\"colab-df-quickchart\" onclick=\"quickchart('df-0617f815-da7f-4795-8f92-f9e83e44228a')\"\n",
              "            title=\"Suggest charts\"\n",
              "            style=\"display:none;\">\n",
              "\n",
              "<svg xmlns=\"http://www.w3.org/2000/svg\" height=\"24px\"viewBox=\"0 0 24 24\"\n",
              "     width=\"24px\">\n",
              "    <g>\n",
              "        <path d=\"M19 3H5c-1.1 0-2 .9-2 2v14c0 1.1.9 2 2 2h14c1.1 0 2-.9 2-2V5c0-1.1-.9-2-2-2zM9 17H7v-7h2v7zm4 0h-2V7h2v10zm4 0h-2v-4h2v4z\"/>\n",
              "    </g>\n",
              "</svg>\n",
              "  </button>\n",
              "\n",
              "<style>\n",
              "  .colab-df-quickchart {\n",
              "      --bg-color: #E8F0FE;\n",
              "      --fill-color: #1967D2;\n",
              "      --hover-bg-color: #E2EBFA;\n",
              "      --hover-fill-color: #174EA6;\n",
              "      --disabled-fill-color: #AAA;\n",
              "      --disabled-bg-color: #DDD;\n",
              "  }\n",
              "\n",
              "  [theme=dark] .colab-df-quickchart {\n",
              "      --bg-color: #3B4455;\n",
              "      --fill-color: #D2E3FC;\n",
              "      --hover-bg-color: #434B5C;\n",
              "      --hover-fill-color: #FFFFFF;\n",
              "      --disabled-bg-color: #3B4455;\n",
              "      --disabled-fill-color: #666;\n",
              "  }\n",
              "\n",
              "  .colab-df-quickchart {\n",
              "    background-color: var(--bg-color);\n",
              "    border: none;\n",
              "    border-radius: 50%;\n",
              "    cursor: pointer;\n",
              "    display: none;\n",
              "    fill: var(--fill-color);\n",
              "    height: 32px;\n",
              "    padding: 0;\n",
              "    width: 32px;\n",
              "  }\n",
              "\n",
              "  .colab-df-quickchart:hover {\n",
              "    background-color: var(--hover-bg-color);\n",
              "    box-shadow: 0 1px 2px rgba(60, 64, 67, 0.3), 0 1px 3px 1px rgba(60, 64, 67, 0.15);\n",
              "    fill: var(--button-hover-fill-color);\n",
              "  }\n",
              "\n",
              "  .colab-df-quickchart-complete:disabled,\n",
              "  .colab-df-quickchart-complete:disabled:hover {\n",
              "    background-color: var(--disabled-bg-color);\n",
              "    fill: var(--disabled-fill-color);\n",
              "    box-shadow: none;\n",
              "  }\n",
              "\n",
              "  .colab-df-spinner {\n",
              "    border: 2px solid var(--fill-color);\n",
              "    border-color: transparent;\n",
              "    border-bottom-color: var(--fill-color);\n",
              "    animation:\n",
              "      spin 1s steps(1) infinite;\n",
              "  }\n",
              "\n",
              "  @keyframes spin {\n",
              "    0% {\n",
              "      border-color: transparent;\n",
              "      border-bottom-color: var(--fill-color);\n",
              "      border-left-color: var(--fill-color);\n",
              "    }\n",
              "    20% {\n",
              "      border-color: transparent;\n",
              "      border-left-color: var(--fill-color);\n",
              "      border-top-color: var(--fill-color);\n",
              "    }\n",
              "    30% {\n",
              "      border-color: transparent;\n",
              "      border-left-color: var(--fill-color);\n",
              "      border-top-color: var(--fill-color);\n",
              "      border-right-color: var(--fill-color);\n",
              "    }\n",
              "    40% {\n",
              "      border-color: transparent;\n",
              "      border-right-color: var(--fill-color);\n",
              "      border-top-color: var(--fill-color);\n",
              "    }\n",
              "    60% {\n",
              "      border-color: transparent;\n",
              "      border-right-color: var(--fill-color);\n",
              "    }\n",
              "    80% {\n",
              "      border-color: transparent;\n",
              "      border-right-color: var(--fill-color);\n",
              "      border-bottom-color: var(--fill-color);\n",
              "    }\n",
              "    90% {\n",
              "      border-color: transparent;\n",
              "      border-bottom-color: var(--fill-color);\n",
              "    }\n",
              "  }\n",
              "</style>\n",
              "\n",
              "  <script>\n",
              "    async function quickchart(key) {\n",
              "      const quickchartButtonEl =\n",
              "        document.querySelector('#' + key + ' button');\n",
              "      quickchartButtonEl.disabled = true;  // To prevent multiple clicks.\n",
              "      quickchartButtonEl.classList.add('colab-df-spinner');\n",
              "      try {\n",
              "        const charts = await google.colab.kernel.invokeFunction(\n",
              "            'suggestCharts', [key], {});\n",
              "      } catch (error) {\n",
              "        console.error('Error during call to suggestCharts:', error);\n",
              "      }\n",
              "      quickchartButtonEl.classList.remove('colab-df-spinner');\n",
              "      quickchartButtonEl.classList.add('colab-df-quickchart-complete');\n",
              "    }\n",
              "    (() => {\n",
              "      let quickchartButtonEl =\n",
              "        document.querySelector('#df-0617f815-da7f-4795-8f92-f9e83e44228a button');\n",
              "      quickchartButtonEl.style.display =\n",
              "        google.colab.kernel.accessAllowed ? 'block' : 'none';\n",
              "    })();\n",
              "  </script>\n",
              "</div>\n",
              "\n",
              "    </div>\n",
              "  </div>\n"
            ],
            "application/vnd.google.colaboratory.intrinsic+json": {
              "type": "dataframe",
              "summary": "{\n  \"name\": \"df\",\n  \"rows\": 5,\n  \"fields\": [\n    {\n      \"column\": \"cement\",\n      \"properties\": {\n        \"dtype\": \"number\",\n        \"std\": 148.52463432037126,\n        \"min\": 198.6,\n        \"max\": 540.0,\n        \"num_unique_values\": 3,\n        \"samples\": [\n          540.0,\n          332.5,\n          198.6\n        ],\n        \"semantic_type\": \"\",\n        \"description\": \"\"\n      }\n    },\n    {\n      \"column\": \"slag\",\n      \"properties\": {\n        \"dtype\": \"number\",\n        \"std\": 76.31793367223723,\n        \"min\": 0.0,\n        \"max\": 142.5,\n        \"num_unique_values\": 3,\n        \"samples\": [\n          0.0,\n          142.5,\n          132.4\n        ],\n        \"semantic_type\": \"\",\n        \"description\": \"\"\n      }\n    },\n    {\n      \"column\": \"flyash\",\n      \"properties\": {\n        \"dtype\": \"number\",\n        \"std\": 0.0,\n        \"min\": 0.0,\n        \"max\": 0.0,\n        \"num_unique_values\": 1,\n        \"samples\": [\n          0.0\n        ],\n        \"semantic_type\": \"\",\n        \"description\": \"\"\n      }\n    },\n    {\n      \"column\": \"water\",\n      \"properties\": {\n        \"dtype\": \"number\",\n        \"std\": 33.027261466854924,\n        \"min\": 162.0,\n        \"max\": 228.0,\n        \"num_unique_values\": 3,\n        \"samples\": [\n          162.0\n        ],\n        \"semantic_type\": \"\",\n        \"description\": \"\"\n      }\n    },\n    {\n      \"column\": \"superplasticizer\",\n      \"properties\": {\n        \"dtype\": \"number\",\n        \"std\": 1.3693063937629153,\n        \"min\": 0.0,\n        \"max\": 2.5,\n        \"num_unique_values\": 2,\n        \"samples\": [\n          0.0\n        ],\n        \"semantic_type\": \"\",\n        \"description\": \"\"\n      }\n    },\n    {\n      \"column\": \"coarseaggregate\",\n      \"properties\": {\n        \"dtype\": \"number\",\n        \"std\": 58.21470604580942,\n        \"min\": 932.0,\n        \"max\": 1055.0,\n        \"num_unique_values\": 4,\n        \"samples\": [\n          1055.0\n        ],\n        \"semantic_type\": \"\",\n        \"description\": \"\"\n      }\n    },\n    {\n      \"column\": \"fineaggregate\",\n      \"properties\": {\n        \"dtype\": \"number\",\n        \"std\": 94.54654938177279,\n        \"min\": 594.0,\n        \"max\": 825.5,\n        \"num_unique_values\": 3,\n        \"samples\": [\n          676.0\n        ],\n        \"semantic_type\": \"\",\n        \"description\": \"\"\n      }\n    },\n    {\n      \"column\": \"age\",\n      \"properties\": {\n        \"dtype\": \"int32\",\n        \"num_unique_values\": 4,\n        \"samples\": [\n          270\n        ],\n        \"semantic_type\": \"\",\n        \"description\": \"\"\n      }\n    },\n    {\n      \"column\": \"csMPa\",\n      \"properties\": {\n        \"dtype\": \"number\",\n        \"std\": 17.22489187193928,\n        \"min\": 40.27,\n        \"max\": 79.99,\n        \"num_unique_values\": 5,\n        \"samples\": [\n          61.89\n        ],\n        \"semantic_type\": \"\",\n        \"description\": \"\"\n      }\n    }\n  ]\n}"
            }
          },
          "metadata": {},
          "execution_count": 9
        }
      ]
    },
    {
      "cell_type": "code",
      "source": [
        "# Nombre d'enregistrements et de colonnes\n",
        "print(f\"Nombre d'enregistrements: {df.count()}\")\n",
        "print(f\"Nombre de colonnes: {len(df.columns)}\")"
      ],
      "metadata": {
        "colab": {
          "base_uri": "https://localhost:8080/"
        },
        "id": "DNNad1tMXPX-",
        "outputId": "c8aca2ca-fc47-44ed-9c6b-2d8754d43861"
      },
      "execution_count": 10,
      "outputs": [
        {
          "output_type": "stream",
          "name": "stdout",
          "text": [
            "Nombre d'enregistrements: 1030\n",
            "Nombre de colonnes: 9\n"
          ]
        }
      ]
    },
    {
      "cell_type": "code",
      "source": [
        "# Colonnes du jeu de données\n",
        "df.columns"
      ],
      "metadata": {
        "colab": {
          "base_uri": "https://localhost:8080/"
        },
        "id": "y-oEWcLWXPa6",
        "outputId": "15dbab1c-d9dc-4f32-f5d4-f6208430a066"
      },
      "execution_count": 11,
      "outputs": [
        {
          "output_type": "execute_result",
          "data": {
            "text/plain": [
              "['cement',\n",
              " 'slag',\n",
              " 'flyash',\n",
              " 'water',\n",
              " 'superplasticizer',\n",
              " 'coarseaggregate',\n",
              " 'fineaggregate',\n",
              " 'age',\n",
              " 'csMPa']"
            ]
          },
          "metadata": {},
          "execution_count": 11
        }
      ]
    },
    {
      "cell_type": "markdown",
      "source": [
        "# **Pré-traitement des données**\n",
        "\n",
        "**Pas de suppression de colonnes nécessaire dans ce cas**"
      ],
      "metadata": {
        "id": "SXa82s5pXjhE"
      }
    },
    {
      "cell_type": "code",
      "source": [
        "# Vérification du schéma de données\n",
        "df.printSchema()"
      ],
      "metadata": {
        "colab": {
          "base_uri": "https://localhost:8080/"
        },
        "id": "Vi8NehBrXPdl",
        "outputId": "0d620b15-1553-47da-be4e-f2ba24298405"
      },
      "execution_count": 12,
      "outputs": [
        {
          "output_type": "stream",
          "name": "stdout",
          "text": [
            "root\n",
            " |-- cement: double (nullable = true)\n",
            " |-- slag: double (nullable = true)\n",
            " |-- flyash: double (nullable = true)\n",
            " |-- water: double (nullable = true)\n",
            " |-- superplasticizer: double (nullable = true)\n",
            " |-- coarseaggregate: double (nullable = true)\n",
            " |-- fineaggregate: double (nullable = true)\n",
            " |-- age: integer (nullable = true)\n",
            " |-- csMPa: double (nullable = true)\n",
            "\n"
          ]
        }
      ]
    },
    {
      "cell_type": "markdown",
      "source": [
        "Valeurs manquantes"
      ],
      "metadata": {
        "id": "iAZuXNDPX3D2"
      }
    },
    {
      "cell_type": "code",
      "source": [
        "# Trouver le nombre de valeurs nulles par colonne\n",
        "df.select([count(when(isnan(c) | col(c).isNull(), c)).alias(c) for c in df.columns]).toPandas()\n"
      ],
      "metadata": {
        "colab": {
          "base_uri": "https://localhost:8080/",
          "height": 80
        },
        "id": "jU25ndJwXPgi",
        "outputId": "e432362d-7e44-47c9-9a92-2d5ff763044f"
      },
      "execution_count": 13,
      "outputs": [
        {
          "output_type": "execute_result",
          "data": {
            "text/plain": [
              "   cement  slag  flyash  water  superplasticizer  coarseaggregate  \\\n",
              "0       1     4       0      0                 3                4   \n",
              "\n",
              "   fineaggregate  age  csMPa  \n",
              "0             11    3      0  "
            ],
            "text/html": [
              "\n",
              "  <div id=\"df-639975d1-0c1a-4776-ad9a-f4a2d525fd29\" class=\"colab-df-container\">\n",
              "    <div>\n",
              "<style scoped>\n",
              "    .dataframe tbody tr th:only-of-type {\n",
              "        vertical-align: middle;\n",
              "    }\n",
              "\n",
              "    .dataframe tbody tr th {\n",
              "        vertical-align: top;\n",
              "    }\n",
              "\n",
              "    .dataframe thead th {\n",
              "        text-align: right;\n",
              "    }\n",
              "</style>\n",
              "<table border=\"1\" class=\"dataframe\">\n",
              "  <thead>\n",
              "    <tr style=\"text-align: right;\">\n",
              "      <th></th>\n",
              "      <th>cement</th>\n",
              "      <th>slag</th>\n",
              "      <th>flyash</th>\n",
              "      <th>water</th>\n",
              "      <th>superplasticizer</th>\n",
              "      <th>coarseaggregate</th>\n",
              "      <th>fineaggregate</th>\n",
              "      <th>age</th>\n",
              "      <th>csMPa</th>\n",
              "    </tr>\n",
              "  </thead>\n",
              "  <tbody>\n",
              "    <tr>\n",
              "      <th>0</th>\n",
              "      <td>1</td>\n",
              "      <td>4</td>\n",
              "      <td>0</td>\n",
              "      <td>0</td>\n",
              "      <td>3</td>\n",
              "      <td>4</td>\n",
              "      <td>11</td>\n",
              "      <td>3</td>\n",
              "      <td>0</td>\n",
              "    </tr>\n",
              "  </tbody>\n",
              "</table>\n",
              "</div>\n",
              "    <div class=\"colab-df-buttons\">\n",
              "\n",
              "  <div class=\"colab-df-container\">\n",
              "    <button class=\"colab-df-convert\" onclick=\"convertToInteractive('df-639975d1-0c1a-4776-ad9a-f4a2d525fd29')\"\n",
              "            title=\"Convert this dataframe to an interactive table.\"\n",
              "            style=\"display:none;\">\n",
              "\n",
              "  <svg xmlns=\"http://www.w3.org/2000/svg\" height=\"24px\" viewBox=\"0 -960 960 960\">\n",
              "    <path d=\"M120-120v-720h720v720H120Zm60-500h600v-160H180v160Zm220 220h160v-160H400v160Zm0 220h160v-160H400v160ZM180-400h160v-160H180v160Zm440 0h160v-160H620v160ZM180-180h160v-160H180v160Zm440 0h160v-160H620v160Z\"/>\n",
              "  </svg>\n",
              "    </button>\n",
              "\n",
              "  <style>\n",
              "    .colab-df-container {\n",
              "      display:flex;\n",
              "      gap: 12px;\n",
              "    }\n",
              "\n",
              "    .colab-df-convert {\n",
              "      background-color: #E8F0FE;\n",
              "      border: none;\n",
              "      border-radius: 50%;\n",
              "      cursor: pointer;\n",
              "      display: none;\n",
              "      fill: #1967D2;\n",
              "      height: 32px;\n",
              "      padding: 0 0 0 0;\n",
              "      width: 32px;\n",
              "    }\n",
              "\n",
              "    .colab-df-convert:hover {\n",
              "      background-color: #E2EBFA;\n",
              "      box-shadow: 0px 1px 2px rgba(60, 64, 67, 0.3), 0px 1px 3px 1px rgba(60, 64, 67, 0.15);\n",
              "      fill: #174EA6;\n",
              "    }\n",
              "\n",
              "    .colab-df-buttons div {\n",
              "      margin-bottom: 4px;\n",
              "    }\n",
              "\n",
              "    [theme=dark] .colab-df-convert {\n",
              "      background-color: #3B4455;\n",
              "      fill: #D2E3FC;\n",
              "    }\n",
              "\n",
              "    [theme=dark] .colab-df-convert:hover {\n",
              "      background-color: #434B5C;\n",
              "      box-shadow: 0px 1px 3px 1px rgba(0, 0, 0, 0.15);\n",
              "      filter: drop-shadow(0px 1px 2px rgba(0, 0, 0, 0.3));\n",
              "      fill: #FFFFFF;\n",
              "    }\n",
              "  </style>\n",
              "\n",
              "    <script>\n",
              "      const buttonEl =\n",
              "        document.querySelector('#df-639975d1-0c1a-4776-ad9a-f4a2d525fd29 button.colab-df-convert');\n",
              "      buttonEl.style.display =\n",
              "        google.colab.kernel.accessAllowed ? 'block' : 'none';\n",
              "\n",
              "      async function convertToInteractive(key) {\n",
              "        const element = document.querySelector('#df-639975d1-0c1a-4776-ad9a-f4a2d525fd29');\n",
              "        const dataTable =\n",
              "          await google.colab.kernel.invokeFunction('convertToInteractive',\n",
              "                                                    [key], {});\n",
              "        if (!dataTable) return;\n",
              "\n",
              "        const docLinkHtml = 'Like what you see? Visit the ' +\n",
              "          '<a target=\"_blank\" href=https://colab.research.google.com/notebooks/data_table.ipynb>data table notebook</a>'\n",
              "          + ' to learn more about interactive tables.';\n",
              "        element.innerHTML = '';\n",
              "        dataTable['output_type'] = 'display_data';\n",
              "        await google.colab.output.renderOutput(dataTable, element);\n",
              "        const docLink = document.createElement('div');\n",
              "        docLink.innerHTML = docLinkHtml;\n",
              "        element.appendChild(docLink);\n",
              "      }\n",
              "    </script>\n",
              "  </div>\n",
              "\n",
              "\n",
              "    </div>\n",
              "  </div>\n"
            ],
            "application/vnd.google.colaboratory.intrinsic+json": {
              "type": "dataframe",
              "summary": "{\n  \"name\": \"df\",\n  \"rows\": 1,\n  \"fields\": [\n    {\n      \"column\": \"cement\",\n      \"properties\": {\n        \"dtype\": \"number\",\n        \"std\": null,\n        \"min\": 1,\n        \"max\": 1,\n        \"num_unique_values\": 1,\n        \"samples\": [\n          1\n        ],\n        \"semantic_type\": \"\",\n        \"description\": \"\"\n      }\n    },\n    {\n      \"column\": \"slag\",\n      \"properties\": {\n        \"dtype\": \"number\",\n        \"std\": null,\n        \"min\": 4,\n        \"max\": 4,\n        \"num_unique_values\": 1,\n        \"samples\": [\n          4\n        ],\n        \"semantic_type\": \"\",\n        \"description\": \"\"\n      }\n    },\n    {\n      \"column\": \"flyash\",\n      \"properties\": {\n        \"dtype\": \"number\",\n        \"std\": null,\n        \"min\": 0,\n        \"max\": 0,\n        \"num_unique_values\": 1,\n        \"samples\": [\n          0\n        ],\n        \"semantic_type\": \"\",\n        \"description\": \"\"\n      }\n    },\n    {\n      \"column\": \"water\",\n      \"properties\": {\n        \"dtype\": \"number\",\n        \"std\": null,\n        \"min\": 0,\n        \"max\": 0,\n        \"num_unique_values\": 1,\n        \"samples\": [\n          0\n        ],\n        \"semantic_type\": \"\",\n        \"description\": \"\"\n      }\n    },\n    {\n      \"column\": \"superplasticizer\",\n      \"properties\": {\n        \"dtype\": \"number\",\n        \"std\": null,\n        \"min\": 3,\n        \"max\": 3,\n        \"num_unique_values\": 1,\n        \"samples\": [\n          3\n        ],\n        \"semantic_type\": \"\",\n        \"description\": \"\"\n      }\n    },\n    {\n      \"column\": \"coarseaggregate\",\n      \"properties\": {\n        \"dtype\": \"number\",\n        \"std\": null,\n        \"min\": 4,\n        \"max\": 4,\n        \"num_unique_values\": 1,\n        \"samples\": [\n          4\n        ],\n        \"semantic_type\": \"\",\n        \"description\": \"\"\n      }\n    },\n    {\n      \"column\": \"fineaggregate\",\n      \"properties\": {\n        \"dtype\": \"number\",\n        \"std\": null,\n        \"min\": 11,\n        \"max\": 11,\n        \"num_unique_values\": 1,\n        \"samples\": [\n          11\n        ],\n        \"semantic_type\": \"\",\n        \"description\": \"\"\n      }\n    },\n    {\n      \"column\": \"age\",\n      \"properties\": {\n        \"dtype\": \"number\",\n        \"std\": null,\n        \"min\": 3,\n        \"max\": 3,\n        \"num_unique_values\": 1,\n        \"samples\": [\n          3\n        ],\n        \"semantic_type\": \"\",\n        \"description\": \"\"\n      }\n    },\n    {\n      \"column\": \"csMPa\",\n      \"properties\": {\n        \"dtype\": \"number\",\n        \"std\": null,\n        \"min\": 0,\n        \"max\": 0,\n        \"num_unique_values\": 1,\n        \"samples\": [\n          0\n        ],\n        \"semantic_type\": \"\",\n        \"description\": \"\"\n      }\n    }\n  ]\n}"
            }
          },
          "metadata": {},
          "execution_count": 13
        }
      ]
    },
    {
      "cell_type": "code",
      "source": [
        "df.select(\"cement\").summary('mean').show()\n",
        "\n",
        "df =df.fillna({'cement':281})\n",
        "\n",
        "df.select(\"slag\").summary('mean').show()\n",
        "\n",
        "df =df.fillna({'slag':74})\n",
        "\n",
        "df.select(\"superplasticizer\").summary('mean').show()\n",
        "\n",
        "df =df.fillna({'superplasticizer':6})\n",
        "\n",
        "df.select(\"coarseaggregate\").summary('mean').show()\n",
        "\n",
        "df =df.fillna({'coarseaggregate':972})\n",
        "\n",
        "df.select(\"fineaggregate\").summary('mean').show()\n",
        "\n",
        "df =df.fillna({'fineaggregate':773})\n",
        "\n",
        "df.select(\"age\").summary('mean').show()\n",
        "\n",
        "df =df.fillna({'age':45})"
      ],
      "metadata": {
        "colab": {
          "base_uri": "https://localhost:8080/"
        },
        "id": "YlR8d75XfqzD",
        "outputId": "ef063ace-17ce-43ec-f915-4a8e8c9db53a"
      },
      "execution_count": 14,
      "outputs": [
        {
          "output_type": "stream",
          "name": "stdout",
          "text": [
            "+-------+------------------+\n",
            "|summary|            cement|\n",
            "+-------+------------------+\n",
            "|   mean|281.23449951409106|\n",
            "+-------+------------------+\n",
            "\n",
            "+-------+-----------------+\n",
            "|summary|             slag|\n",
            "+-------+-----------------+\n",
            "|   mean|74.18391812865497|\n",
            "+-------+-----------------+\n",
            "\n",
            "+-------+-----------------+\n",
            "|summary| superplasticizer|\n",
            "+-------+-----------------+\n",
            "|   mean|6.202142161635831|\n",
            "+-------+-----------------+\n",
            "\n",
            "+-------+-----------------+\n",
            "|summary|  coarseaggregate|\n",
            "+-------+-----------------+\n",
            "|   mean|972.6394736842101|\n",
            "+-------+-----------------+\n",
            "\n",
            "+-------+-----------------+\n",
            "|summary|    fineaggregate|\n",
            "+-------+-----------------+\n",
            "|   mean|773.1452404317946|\n",
            "+-------+-----------------+\n",
            "\n",
            "+-------+-----------------+\n",
            "|summary|              age|\n",
            "+-------+-----------------+\n",
            "|   mean|45.71372930866602|\n",
            "+-------+-----------------+\n",
            "\n"
          ]
        }
      ]
    },
    {
      "cell_type": "code",
      "source": [
        "# # Remplacement des valeurs manquantes par la moyenne pour les valeurs numériques\n",
        "# for col in ['cement', 'slag', 'superplasticizer', 'coarseaggregate', 'fineaggregate', 'age']:\n",
        "#   df = df.fillna({col: df.select(col).summary('mean').rdd.first()[0]})\n"
      ],
      "metadata": {
        "id": "stQt6HorXPjc"
      },
      "execution_count": 15,
      "outputs": []
    },
    {
      "cell_type": "code",
      "source": [
        "df.printSchema()"
      ],
      "metadata": {
        "colab": {
          "base_uri": "https://localhost:8080/"
        },
        "id": "FOCkMjpSbRfB",
        "outputId": "ca098c13-29f3-4658-997c-574d6b7f5402"
      },
      "execution_count": 16,
      "outputs": [
        {
          "output_type": "stream",
          "name": "stdout",
          "text": [
            "root\n",
            " |-- cement: double (nullable = false)\n",
            " |-- slag: double (nullable = false)\n",
            " |-- flyash: double (nullable = true)\n",
            " |-- water: double (nullable = true)\n",
            " |-- superplasticizer: double (nullable = false)\n",
            " |-- coarseaggregate: double (nullable = false)\n",
            " |-- fineaggregate: double (nullable = false)\n",
            " |-- age: integer (nullable = false)\n",
            " |-- csMPa: double (nullable = true)\n",
            "\n"
          ]
        }
      ]
    },
    {
      "cell_type": "code",
      "source": [
        "# Vérification des valeurs manquantes restantes\n",
        "df.select([count(when(isnan(c) | col(c).isNull(), c)).alias(c) for c in df.columns]).toPandas()\n"
      ],
      "metadata": {
        "colab": {
          "base_uri": "https://localhost:8080/",
          "height": 80
        },
        "id": "dpuMvybiXPmj",
        "outputId": "1774e70d-2bce-426c-a2b8-3a6ce8f6fa60"
      },
      "execution_count": 17,
      "outputs": [
        {
          "output_type": "execute_result",
          "data": {
            "text/plain": [
              "   cement  slag  flyash  water  superplasticizer  coarseaggregate  \\\n",
              "0       0     0       0      0                 0                0   \n",
              "\n",
              "   fineaggregate  age  csMPa  \n",
              "0              0    0      0  "
            ],
            "text/html": [
              "\n",
              "  <div id=\"df-030a9ca4-7998-4ed4-9ed3-d68df02df4be\" class=\"colab-df-container\">\n",
              "    <div>\n",
              "<style scoped>\n",
              "    .dataframe tbody tr th:only-of-type {\n",
              "        vertical-align: middle;\n",
              "    }\n",
              "\n",
              "    .dataframe tbody tr th {\n",
              "        vertical-align: top;\n",
              "    }\n",
              "\n",
              "    .dataframe thead th {\n",
              "        text-align: right;\n",
              "    }\n",
              "</style>\n",
              "<table border=\"1\" class=\"dataframe\">\n",
              "  <thead>\n",
              "    <tr style=\"text-align: right;\">\n",
              "      <th></th>\n",
              "      <th>cement</th>\n",
              "      <th>slag</th>\n",
              "      <th>flyash</th>\n",
              "      <th>water</th>\n",
              "      <th>superplasticizer</th>\n",
              "      <th>coarseaggregate</th>\n",
              "      <th>fineaggregate</th>\n",
              "      <th>age</th>\n",
              "      <th>csMPa</th>\n",
              "    </tr>\n",
              "  </thead>\n",
              "  <tbody>\n",
              "    <tr>\n",
              "      <th>0</th>\n",
              "      <td>0</td>\n",
              "      <td>0</td>\n",
              "      <td>0</td>\n",
              "      <td>0</td>\n",
              "      <td>0</td>\n",
              "      <td>0</td>\n",
              "      <td>0</td>\n",
              "      <td>0</td>\n",
              "      <td>0</td>\n",
              "    </tr>\n",
              "  </tbody>\n",
              "</table>\n",
              "</div>\n",
              "    <div class=\"colab-df-buttons\">\n",
              "\n",
              "  <div class=\"colab-df-container\">\n",
              "    <button class=\"colab-df-convert\" onclick=\"convertToInteractive('df-030a9ca4-7998-4ed4-9ed3-d68df02df4be')\"\n",
              "            title=\"Convert this dataframe to an interactive table.\"\n",
              "            style=\"display:none;\">\n",
              "\n",
              "  <svg xmlns=\"http://www.w3.org/2000/svg\" height=\"24px\" viewBox=\"0 -960 960 960\">\n",
              "    <path d=\"M120-120v-720h720v720H120Zm60-500h600v-160H180v160Zm220 220h160v-160H400v160Zm0 220h160v-160H400v160ZM180-400h160v-160H180v160Zm440 0h160v-160H620v160ZM180-180h160v-160H180v160Zm440 0h160v-160H620v160Z\"/>\n",
              "  </svg>\n",
              "    </button>\n",
              "\n",
              "  <style>\n",
              "    .colab-df-container {\n",
              "      display:flex;\n",
              "      gap: 12px;\n",
              "    }\n",
              "\n",
              "    .colab-df-convert {\n",
              "      background-color: #E8F0FE;\n",
              "      border: none;\n",
              "      border-radius: 50%;\n",
              "      cursor: pointer;\n",
              "      display: none;\n",
              "      fill: #1967D2;\n",
              "      height: 32px;\n",
              "      padding: 0 0 0 0;\n",
              "      width: 32px;\n",
              "    }\n",
              "\n",
              "    .colab-df-convert:hover {\n",
              "      background-color: #E2EBFA;\n",
              "      box-shadow: 0px 1px 2px rgba(60, 64, 67, 0.3), 0px 1px 3px 1px rgba(60, 64, 67, 0.15);\n",
              "      fill: #174EA6;\n",
              "    }\n",
              "\n",
              "    .colab-df-buttons div {\n",
              "      margin-bottom: 4px;\n",
              "    }\n",
              "\n",
              "    [theme=dark] .colab-df-convert {\n",
              "      background-color: #3B4455;\n",
              "      fill: #D2E3FC;\n",
              "    }\n",
              "\n",
              "    [theme=dark] .colab-df-convert:hover {\n",
              "      background-color: #434B5C;\n",
              "      box-shadow: 0px 1px 3px 1px rgba(0, 0, 0, 0.15);\n",
              "      filter: drop-shadow(0px 1px 2px rgba(0, 0, 0, 0.3));\n",
              "      fill: #FFFFFF;\n",
              "    }\n",
              "  </style>\n",
              "\n",
              "    <script>\n",
              "      const buttonEl =\n",
              "        document.querySelector('#df-030a9ca4-7998-4ed4-9ed3-d68df02df4be button.colab-df-convert');\n",
              "      buttonEl.style.display =\n",
              "        google.colab.kernel.accessAllowed ? 'block' : 'none';\n",
              "\n",
              "      async function convertToInteractive(key) {\n",
              "        const element = document.querySelector('#df-030a9ca4-7998-4ed4-9ed3-d68df02df4be');\n",
              "        const dataTable =\n",
              "          await google.colab.kernel.invokeFunction('convertToInteractive',\n",
              "                                                    [key], {});\n",
              "        if (!dataTable) return;\n",
              "\n",
              "        const docLinkHtml = 'Like what you see? Visit the ' +\n",
              "          '<a target=\"_blank\" href=https://colab.research.google.com/notebooks/data_table.ipynb>data table notebook</a>'\n",
              "          + ' to learn more about interactive tables.';\n",
              "        element.innerHTML = '';\n",
              "        dataTable['output_type'] = 'display_data';\n",
              "        await google.colab.output.renderOutput(dataTable, element);\n",
              "        const docLink = document.createElement('div');\n",
              "        docLink.innerHTML = docLinkHtml;\n",
              "        element.appendChild(docLink);\n",
              "      }\n",
              "    </script>\n",
              "  </div>\n",
              "\n",
              "\n",
              "    </div>\n",
              "  </div>\n"
            ],
            "application/vnd.google.colaboratory.intrinsic+json": {
              "type": "dataframe",
              "summary": "{\n  \"name\": \"df\",\n  \"rows\": 1,\n  \"fields\": [\n    {\n      \"column\": \"cement\",\n      \"properties\": {\n        \"dtype\": \"number\",\n        \"std\": null,\n        \"min\": 0,\n        \"max\": 0,\n        \"num_unique_values\": 1,\n        \"samples\": [\n          0\n        ],\n        \"semantic_type\": \"\",\n        \"description\": \"\"\n      }\n    },\n    {\n      \"column\": \"slag\",\n      \"properties\": {\n        \"dtype\": \"number\",\n        \"std\": null,\n        \"min\": 0,\n        \"max\": 0,\n        \"num_unique_values\": 1,\n        \"samples\": [\n          0\n        ],\n        \"semantic_type\": \"\",\n        \"description\": \"\"\n      }\n    },\n    {\n      \"column\": \"flyash\",\n      \"properties\": {\n        \"dtype\": \"number\",\n        \"std\": null,\n        \"min\": 0,\n        \"max\": 0,\n        \"num_unique_values\": 1,\n        \"samples\": [\n          0\n        ],\n        \"semantic_type\": \"\",\n        \"description\": \"\"\n      }\n    },\n    {\n      \"column\": \"water\",\n      \"properties\": {\n        \"dtype\": \"number\",\n        \"std\": null,\n        \"min\": 0,\n        \"max\": 0,\n        \"num_unique_values\": 1,\n        \"samples\": [\n          0\n        ],\n        \"semantic_type\": \"\",\n        \"description\": \"\"\n      }\n    },\n    {\n      \"column\": \"superplasticizer\",\n      \"properties\": {\n        \"dtype\": \"number\",\n        \"std\": null,\n        \"min\": 0,\n        \"max\": 0,\n        \"num_unique_values\": 1,\n        \"samples\": [\n          0\n        ],\n        \"semantic_type\": \"\",\n        \"description\": \"\"\n      }\n    },\n    {\n      \"column\": \"coarseaggregate\",\n      \"properties\": {\n        \"dtype\": \"number\",\n        \"std\": null,\n        \"min\": 0,\n        \"max\": 0,\n        \"num_unique_values\": 1,\n        \"samples\": [\n          0\n        ],\n        \"semantic_type\": \"\",\n        \"description\": \"\"\n      }\n    },\n    {\n      \"column\": \"fineaggregate\",\n      \"properties\": {\n        \"dtype\": \"number\",\n        \"std\": null,\n        \"min\": 0,\n        \"max\": 0,\n        \"num_unique_values\": 1,\n        \"samples\": [\n          0\n        ],\n        \"semantic_type\": \"\",\n        \"description\": \"\"\n      }\n    },\n    {\n      \"column\": \"age\",\n      \"properties\": {\n        \"dtype\": \"number\",\n        \"std\": null,\n        \"min\": 0,\n        \"max\": 0,\n        \"num_unique_values\": 1,\n        \"samples\": [\n          0\n        ],\n        \"semantic_type\": \"\",\n        \"description\": \"\"\n      }\n    },\n    {\n      \"column\": \"csMPa\",\n      \"properties\": {\n        \"dtype\": \"number\",\n        \"std\": null,\n        \"min\": 0,\n        \"max\": 0,\n        \"num_unique_values\": 1,\n        \"samples\": [\n          0\n        ],\n        \"semantic_type\": \"\",\n        \"description\": \"\"\n      }\n    }\n  ]\n}"
            }
          },
          "metadata": {},
          "execution_count": 17
        }
      ]
    },
    {
      "cell_type": "code",
      "source": [
        "# Corrélation (optionnel)\n",
        "import six\n",
        "for col in df.columns:\n",
        "  if not isinstance(df.select(col).take(1)[0][0], six.string_types):\n",
        "    print(f\"Corrélation avec la résistance à la compression pour {col}:\", df.stat.corr('csMPa', col))\n"
      ],
      "metadata": {
        "colab": {
          "base_uri": "https://localhost:8080/"
        },
        "id": "PoWHIgpaXPpr",
        "outputId": "89426cf4-b4ed-46e6-f171-dfaaffadf35e"
      },
      "execution_count": 18,
      "outputs": [
        {
          "output_type": "stream",
          "name": "stdout",
          "text": [
            "Corrélation avec la résistance à la compression pour cement: 0.4983902048507596\n",
            "Corrélation avec la résistance à la compression pour slag: 0.13470778480300238\n",
            "Corrélation avec la résistance à la compression pour flyash: -0.10575491629731447\n",
            "Corrélation avec la résistance à la compression pour water: -0.28963338498530294\n",
            "Corrélation avec la résistance à la compression pour superplasticizer: 0.3658134397476175\n",
            "Corrélation avec la résistance à la compression pour coarseaggregate: -0.16621456135112603\n",
            "Corrélation avec la résistance à la compression pour fineaggregate: -0.16726113416813315\n",
            "Corrélation avec la résistance à la compression pour age: 0.3284447729466021\n",
            "Corrélation avec la résistance à la compression pour csMPa: 1.0\n"
          ]
        }
      ]
    },
    {
      "cell_type": "code",
      "source": [
        "# Séparation des données en train et test\n",
        "train, test = df.randomSplit([0.7, 0.3], seed=2018)\n",
        "print(f\"Nombre d'enregistrements dans l'ensemble d'entraînement: {train.count()}\")\n",
        "print(f\"Nombre d'enregistrements dans l'ensemble de test: {test.count()}\")\n"
      ],
      "metadata": {
        "colab": {
          "base_uri": "https://localhost:8080/"
        },
        "id": "MAnSYBVNXPsc",
        "outputId": "71daf0ac-ef64-4cba-f1bc-fb3c33cbb6f1"
      },
      "execution_count": 19,
      "outputs": [
        {
          "output_type": "stream",
          "name": "stdout",
          "text": [
            "Nombre d'enregistrements dans l'ensemble d'entraînement: 732\n",
            "Nombre d'enregistrements dans l'ensemble de test: 298\n"
          ]
        }
      ]
    },
    {
      "cell_type": "code",
      "source": [
        "# Colonnes à mettre à l'échelle\n",
        "cols_to_scale = ['cement', 'slag', 'flyash', 'water', 'superplasticizer', 'coarseaggregate', 'fineaggregate', 'age']\n"
      ],
      "metadata": {
        "id": "Up1k0ILKXPvK"
      },
      "execution_count": 20,
      "outputs": []
    },
    {
      "cell_type": "code",
      "source": [
        "# Assemblage des features\n",
        "s_assembler = VectorAssembler(inputCols=cols_to_scale, outputCol=\"feature\")\n",
        "train_assembled = s_assembler.transform(train)\n",
        "train_assembled.show()"
      ],
      "metadata": {
        "colab": {
          "base_uri": "https://localhost:8080/"
        },
        "id": "W3HlE9bPXPyW",
        "outputId": "59dc7ea8-fbab-4894-ecd1-9fa0096d98b5"
      },
      "execution_count": 21,
      "outputs": [
        {
          "output_type": "stream",
          "name": "stdout",
          "text": [
            "+------+-----+------+-----+----------------+---------------+-------------+---+-----+--------------------+\n",
            "|cement| slag|flyash|water|superplasticizer|coarseaggregate|fineaggregate|age|csMPa|             feature|\n",
            "+------+-----+------+-----+----------------+---------------+-------------+---+-----+--------------------+\n",
            "| 102.0|153.0|   0.0|192.0|             0.0|          887.0|        942.0|  7| 7.68|[102.0,153.0,0.0,...|\n",
            "| 102.0|153.0|   0.0|192.0|             0.0|          887.0|        942.0| 28|17.28|[102.0,153.0,0.0,...|\n",
            "| 102.0|153.0|   0.0|192.0|             0.0|          887.0|        942.0| 90|25.46|[102.0,153.0,0.0,...|\n",
            "| 108.3|162.4|   0.0|203.5|             0.0|          938.2|        849.0|  3| 2.33|[108.3,162.4,0.0,...|\n",
            "| 108.3|162.4|   0.0|203.5|             0.0|          938.2|        849.0|  7| 7.72|[108.3,162.4,0.0,...|\n",
            "| 108.3|162.4|   0.0|203.5|             0.0|          938.2|        849.0| 28|20.59|[108.3,162.4,0.0,...|\n",
            "| 108.3|162.4|   0.0|203.5|             0.0|          938.2|        849.0| 90|29.23|[108.3,162.4,0.0,...|\n",
            "| 116.0|173.0|   0.0|192.0|             0.0|          909.8|        891.9|  7|10.09|[116.0,173.0,0.0,...|\n",
            "| 116.0|173.0|   0.0|192.0|             0.0|          909.8|        891.9| 28|22.35|[116.0,173.0,0.0,...|\n",
            "| 122.6|183.9|   0.0|203.5|             0.0|          958.2|        800.1|  7|10.35|[122.6,183.9,0.0,...|\n",
            "| 122.6|183.9|   0.0|203.5|             0.0|          958.2|        800.1| 28|24.29|[122.6,183.9,0.0,...|\n",
            "| 122.6|183.9|   0.0|203.5|             0.0|          958.2|        800.1| 90|33.19|[122.6,183.9,0.0,...|\n",
            "| 132.0|207.0| 161.0|179.0|             5.0|          867.0|        736.0| 28| 33.3|[132.0,207.0,161....|\n",
            "| 133.0|200.0|   0.0|192.0|             0.0|          927.4|        839.2|  3| 6.88|[133.0,200.0,0.0,...|\n",
            "| 133.0|200.0|   0.0|192.0|             0.0|          927.4|        839.2| 28|27.87|[133.0,200.0,0.0,...|\n",
            "| 133.0|200.0|   0.0|192.0|             0.0|          927.4|        839.2| 90|36.59|[133.0,200.0,0.0,...|\n",
            "| 133.0|210.0|   0.0|196.0|             3.0|          949.0|        795.0| 28|31.03|[133.0,210.0,0.0,...|\n",
            "| 134.7|  0.0| 165.7|180.2|            10.0|          961.0|        804.9| 28|13.29|[134.7,0.0,165.7,...|\n",
            "| 135.0|  0.0| 166.0|180.0|            10.0|          961.0|        805.0| 28|13.29|[135.0,0.0,166.0,...|\n",
            "| 135.0|105.0| 193.0|196.0|             6.0|          965.0|        643.0| 28|21.91|[135.0,105.0,193....|\n",
            "+------+-----+------+-----+----------------+---------------+-------------+---+-----+--------------------+\n",
            "only showing top 20 rows\n",
            "\n"
          ]
        }
      ]
    },
    {
      "cell_type": "code",
      "source": [
        "from pyspark.ml.feature import StandardScaler\n",
        "scaler = StandardScaler(inputCol=\"feature\", outputCol=\"features\", withMean=True, withStd=True)"
      ],
      "metadata": {
        "id": "4JpWOxgwcAVf"
      },
      "execution_count": 22,
      "outputs": []
    },
    {
      "cell_type": "code",
      "source": [
        "scaler_model = scaler.fit(train_assembled)\n",
        "train_scaled = scaler_model.transform(train_assembled)\n"
      ],
      "metadata": {
        "id": "YdNB1Fl5XP1b"
      },
      "execution_count": 23,
      "outputs": []
    },
    {
      "cell_type": "code",
      "source": [
        "# Renommer la colonne cible\n",
        "train_scaled = train_scaled.withColumnRenamed(\"csMPa\", \"label\")\n"
      ],
      "metadata": {
        "id": "rA9CkJROXP4U"
      },
      "execution_count": 24,
      "outputs": []
    },
    {
      "cell_type": "code",
      "source": [
        "# Sélection des colonnes pour le Machine Learning\n",
        "train_data = train_scaled.select(\"features\", \"label\")\n"
      ],
      "metadata": {
        "id": "jkot8UokXP7a"
      },
      "execution_count": 25,
      "outputs": []
    },
    {
      "cell_type": "code",
      "source": [
        "train_data.toPandas()"
      ],
      "metadata": {
        "colab": {
          "base_uri": "https://localhost:8080/",
          "height": 423
        },
        "id": "H7F4n-5Lf-pV",
        "outputId": "1eccf15c-0f8c-4229-db56-0a1aee99c1b8"
      },
      "execution_count": 26,
      "outputs": [
        {
          "output_type": "execute_result",
          "data": {
            "text/plain": [
              "                                              features  label\n",
              "0    [-1.7377891123666505, 0.8877701970978037, -0.8...   7.68\n",
              "1    [-1.7377891123666505, 0.8877701970978037, -0.8...  17.28\n",
              "2    [-1.7377891123666505, 0.8877701970978037, -0.8...  25.46\n",
              "3    [-1.6768070031877411, 0.9955874397573756, -0.8...   2.33\n",
              "4    [-1.6768070031877411, 0.9955874397573756, -0.8...   7.72\n",
              "..                                                 ...    ...\n",
              "727  [2.5019194305479946, -0.867127475978207, -0.83...  41.64\n",
              "728  [2.5019194305479946, -0.867127475978207, -0.83...  52.61\n",
              "729  [2.5019194305479946, -0.867127475978207, -0.83...  59.76\n",
              "730  [2.5019194305479946, -0.867127475978207, -0.83...  67.31\n",
              "731  [2.5019194305479946, -0.867127475978207, -0.83...  69.66\n",
              "\n",
              "[732 rows x 2 columns]"
            ],
            "text/html": [
              "\n",
              "  <div id=\"df-7ddf3219-50d5-4cc0-9e3e-78e6c6aeb65c\" class=\"colab-df-container\">\n",
              "    <div>\n",
              "<style scoped>\n",
              "    .dataframe tbody tr th:only-of-type {\n",
              "        vertical-align: middle;\n",
              "    }\n",
              "\n",
              "    .dataframe tbody tr th {\n",
              "        vertical-align: top;\n",
              "    }\n",
              "\n",
              "    .dataframe thead th {\n",
              "        text-align: right;\n",
              "    }\n",
              "</style>\n",
              "<table border=\"1\" class=\"dataframe\">\n",
              "  <thead>\n",
              "    <tr style=\"text-align: right;\">\n",
              "      <th></th>\n",
              "      <th>features</th>\n",
              "      <th>label</th>\n",
              "    </tr>\n",
              "  </thead>\n",
              "  <tbody>\n",
              "    <tr>\n",
              "      <th>0</th>\n",
              "      <td>[-1.7377891123666505, 0.8877701970978037, -0.8...</td>\n",
              "      <td>7.68</td>\n",
              "    </tr>\n",
              "    <tr>\n",
              "      <th>1</th>\n",
              "      <td>[-1.7377891123666505, 0.8877701970978037, -0.8...</td>\n",
              "      <td>17.28</td>\n",
              "    </tr>\n",
              "    <tr>\n",
              "      <th>2</th>\n",
              "      <td>[-1.7377891123666505, 0.8877701970978037, -0.8...</td>\n",
              "      <td>25.46</td>\n",
              "    </tr>\n",
              "    <tr>\n",
              "      <th>3</th>\n",
              "      <td>[-1.6768070031877411, 0.9955874397573756, -0.8...</td>\n",
              "      <td>2.33</td>\n",
              "    </tr>\n",
              "    <tr>\n",
              "      <th>4</th>\n",
              "      <td>[-1.6768070031877411, 0.9955874397573756, -0.8...</td>\n",
              "      <td>7.72</td>\n",
              "    </tr>\n",
              "    <tr>\n",
              "      <th>...</th>\n",
              "      <td>...</td>\n",
              "      <td>...</td>\n",
              "    </tr>\n",
              "    <tr>\n",
              "      <th>727</th>\n",
              "      <td>[2.5019194305479946, -0.867127475978207, -0.83...</td>\n",
              "      <td>41.64</td>\n",
              "    </tr>\n",
              "    <tr>\n",
              "      <th>728</th>\n",
              "      <td>[2.5019194305479946, -0.867127475978207, -0.83...</td>\n",
              "      <td>52.61</td>\n",
              "    </tr>\n",
              "    <tr>\n",
              "      <th>729</th>\n",
              "      <td>[2.5019194305479946, -0.867127475978207, -0.83...</td>\n",
              "      <td>59.76</td>\n",
              "    </tr>\n",
              "    <tr>\n",
              "      <th>730</th>\n",
              "      <td>[2.5019194305479946, -0.867127475978207, -0.83...</td>\n",
              "      <td>67.31</td>\n",
              "    </tr>\n",
              "    <tr>\n",
              "      <th>731</th>\n",
              "      <td>[2.5019194305479946, -0.867127475978207, -0.83...</td>\n",
              "      <td>69.66</td>\n",
              "    </tr>\n",
              "  </tbody>\n",
              "</table>\n",
              "<p>732 rows × 2 columns</p>\n",
              "</div>\n",
              "    <div class=\"colab-df-buttons\">\n",
              "\n",
              "  <div class=\"colab-df-container\">\n",
              "    <button class=\"colab-df-convert\" onclick=\"convertToInteractive('df-7ddf3219-50d5-4cc0-9e3e-78e6c6aeb65c')\"\n",
              "            title=\"Convert this dataframe to an interactive table.\"\n",
              "            style=\"display:none;\">\n",
              "\n",
              "  <svg xmlns=\"http://www.w3.org/2000/svg\" height=\"24px\" viewBox=\"0 -960 960 960\">\n",
              "    <path d=\"M120-120v-720h720v720H120Zm60-500h600v-160H180v160Zm220 220h160v-160H400v160Zm0 220h160v-160H400v160ZM180-400h160v-160H180v160Zm440 0h160v-160H620v160ZM180-180h160v-160H180v160Zm440 0h160v-160H620v160Z\"/>\n",
              "  </svg>\n",
              "    </button>\n",
              "\n",
              "  <style>\n",
              "    .colab-df-container {\n",
              "      display:flex;\n",
              "      gap: 12px;\n",
              "    }\n",
              "\n",
              "    .colab-df-convert {\n",
              "      background-color: #E8F0FE;\n",
              "      border: none;\n",
              "      border-radius: 50%;\n",
              "      cursor: pointer;\n",
              "      display: none;\n",
              "      fill: #1967D2;\n",
              "      height: 32px;\n",
              "      padding: 0 0 0 0;\n",
              "      width: 32px;\n",
              "    }\n",
              "\n",
              "    .colab-df-convert:hover {\n",
              "      background-color: #E2EBFA;\n",
              "      box-shadow: 0px 1px 2px rgba(60, 64, 67, 0.3), 0px 1px 3px 1px rgba(60, 64, 67, 0.15);\n",
              "      fill: #174EA6;\n",
              "    }\n",
              "\n",
              "    .colab-df-buttons div {\n",
              "      margin-bottom: 4px;\n",
              "    }\n",
              "\n",
              "    [theme=dark] .colab-df-convert {\n",
              "      background-color: #3B4455;\n",
              "      fill: #D2E3FC;\n",
              "    }\n",
              "\n",
              "    [theme=dark] .colab-df-convert:hover {\n",
              "      background-color: #434B5C;\n",
              "      box-shadow: 0px 1px 3px 1px rgba(0, 0, 0, 0.15);\n",
              "      filter: drop-shadow(0px 1px 2px rgba(0, 0, 0, 0.3));\n",
              "      fill: #FFFFFF;\n",
              "    }\n",
              "  </style>\n",
              "\n",
              "    <script>\n",
              "      const buttonEl =\n",
              "        document.querySelector('#df-7ddf3219-50d5-4cc0-9e3e-78e6c6aeb65c button.colab-df-convert');\n",
              "      buttonEl.style.display =\n",
              "        google.colab.kernel.accessAllowed ? 'block' : 'none';\n",
              "\n",
              "      async function convertToInteractive(key) {\n",
              "        const element = document.querySelector('#df-7ddf3219-50d5-4cc0-9e3e-78e6c6aeb65c');\n",
              "        const dataTable =\n",
              "          await google.colab.kernel.invokeFunction('convertToInteractive',\n",
              "                                                    [key], {});\n",
              "        if (!dataTable) return;\n",
              "\n",
              "        const docLinkHtml = 'Like what you see? Visit the ' +\n",
              "          '<a target=\"_blank\" href=https://colab.research.google.com/notebooks/data_table.ipynb>data table notebook</a>'\n",
              "          + ' to learn more about interactive tables.';\n",
              "        element.innerHTML = '';\n",
              "        dataTable['output_type'] = 'display_data';\n",
              "        await google.colab.output.renderOutput(dataTable, element);\n",
              "        const docLink = document.createElement('div');\n",
              "        docLink.innerHTML = docLinkHtml;\n",
              "        element.appendChild(docLink);\n",
              "      }\n",
              "    </script>\n",
              "  </div>\n",
              "\n",
              "\n",
              "<div id=\"df-93de4fa2-bd2e-4f12-a7dc-6aaf8d1f0f60\">\n",
              "  <button class=\"colab-df-quickchart\" onclick=\"quickchart('df-93de4fa2-bd2e-4f12-a7dc-6aaf8d1f0f60')\"\n",
              "            title=\"Suggest charts\"\n",
              "            style=\"display:none;\">\n",
              "\n",
              "<svg xmlns=\"http://www.w3.org/2000/svg\" height=\"24px\"viewBox=\"0 0 24 24\"\n",
              "     width=\"24px\">\n",
              "    <g>\n",
              "        <path d=\"M19 3H5c-1.1 0-2 .9-2 2v14c0 1.1.9 2 2 2h14c1.1 0 2-.9 2-2V5c0-1.1-.9-2-2-2zM9 17H7v-7h2v7zm4 0h-2V7h2v10zm4 0h-2v-4h2v4z\"/>\n",
              "    </g>\n",
              "</svg>\n",
              "  </button>\n",
              "\n",
              "<style>\n",
              "  .colab-df-quickchart {\n",
              "      --bg-color: #E8F0FE;\n",
              "      --fill-color: #1967D2;\n",
              "      --hover-bg-color: #E2EBFA;\n",
              "      --hover-fill-color: #174EA6;\n",
              "      --disabled-fill-color: #AAA;\n",
              "      --disabled-bg-color: #DDD;\n",
              "  }\n",
              "\n",
              "  [theme=dark] .colab-df-quickchart {\n",
              "      --bg-color: #3B4455;\n",
              "      --fill-color: #D2E3FC;\n",
              "      --hover-bg-color: #434B5C;\n",
              "      --hover-fill-color: #FFFFFF;\n",
              "      --disabled-bg-color: #3B4455;\n",
              "      --disabled-fill-color: #666;\n",
              "  }\n",
              "\n",
              "  .colab-df-quickchart {\n",
              "    background-color: var(--bg-color);\n",
              "    border: none;\n",
              "    border-radius: 50%;\n",
              "    cursor: pointer;\n",
              "    display: none;\n",
              "    fill: var(--fill-color);\n",
              "    height: 32px;\n",
              "    padding: 0;\n",
              "    width: 32px;\n",
              "  }\n",
              "\n",
              "  .colab-df-quickchart:hover {\n",
              "    background-color: var(--hover-bg-color);\n",
              "    box-shadow: 0 1px 2px rgba(60, 64, 67, 0.3), 0 1px 3px 1px rgba(60, 64, 67, 0.15);\n",
              "    fill: var(--button-hover-fill-color);\n",
              "  }\n",
              "\n",
              "  .colab-df-quickchart-complete:disabled,\n",
              "  .colab-df-quickchart-complete:disabled:hover {\n",
              "    background-color: var(--disabled-bg-color);\n",
              "    fill: var(--disabled-fill-color);\n",
              "    box-shadow: none;\n",
              "  }\n",
              "\n",
              "  .colab-df-spinner {\n",
              "    border: 2px solid var(--fill-color);\n",
              "    border-color: transparent;\n",
              "    border-bottom-color: var(--fill-color);\n",
              "    animation:\n",
              "      spin 1s steps(1) infinite;\n",
              "  }\n",
              "\n",
              "  @keyframes spin {\n",
              "    0% {\n",
              "      border-color: transparent;\n",
              "      border-bottom-color: var(--fill-color);\n",
              "      border-left-color: var(--fill-color);\n",
              "    }\n",
              "    20% {\n",
              "      border-color: transparent;\n",
              "      border-left-color: var(--fill-color);\n",
              "      border-top-color: var(--fill-color);\n",
              "    }\n",
              "    30% {\n",
              "      border-color: transparent;\n",
              "      border-left-color: var(--fill-color);\n",
              "      border-top-color: var(--fill-color);\n",
              "      border-right-color: var(--fill-color);\n",
              "    }\n",
              "    40% {\n",
              "      border-color: transparent;\n",
              "      border-right-color: var(--fill-color);\n",
              "      border-top-color: var(--fill-color);\n",
              "    }\n",
              "    60% {\n",
              "      border-color: transparent;\n",
              "      border-right-color: var(--fill-color);\n",
              "    }\n",
              "    80% {\n",
              "      border-color: transparent;\n",
              "      border-right-color: var(--fill-color);\n",
              "      border-bottom-color: var(--fill-color);\n",
              "    }\n",
              "    90% {\n",
              "      border-color: transparent;\n",
              "      border-bottom-color: var(--fill-color);\n",
              "    }\n",
              "  }\n",
              "</style>\n",
              "\n",
              "  <script>\n",
              "    async function quickchart(key) {\n",
              "      const quickchartButtonEl =\n",
              "        document.querySelector('#' + key + ' button');\n",
              "      quickchartButtonEl.disabled = true;  // To prevent multiple clicks.\n",
              "      quickchartButtonEl.classList.add('colab-df-spinner');\n",
              "      try {\n",
              "        const charts = await google.colab.kernel.invokeFunction(\n",
              "            'suggestCharts', [key], {});\n",
              "      } catch (error) {\n",
              "        console.error('Error during call to suggestCharts:', error);\n",
              "      }\n",
              "      quickchartButtonEl.classList.remove('colab-df-spinner');\n",
              "      quickchartButtonEl.classList.add('colab-df-quickchart-complete');\n",
              "    }\n",
              "    (() => {\n",
              "      let quickchartButtonEl =\n",
              "        document.querySelector('#df-93de4fa2-bd2e-4f12-a7dc-6aaf8d1f0f60 button');\n",
              "      quickchartButtonEl.style.display =\n",
              "        google.colab.kernel.accessAllowed ? 'block' : 'none';\n",
              "    })();\n",
              "  </script>\n",
              "</div>\n",
              "\n",
              "    </div>\n",
              "  </div>\n"
            ],
            "application/vnd.google.colaboratory.intrinsic+json": {
              "type": "dataframe",
              "summary": "{\n  \"name\": \"train_data\",\n  \"rows\": 732,\n  \"fields\": [\n    {\n      \"column\": \"features\",\n      \"properties\": {\n        \"dtype\": \"string\",\n        \"num_unique_values\": 712,\n        \"samples\": [\n          \"[0.43046365843901274,1.0368791497121053,-0.8301765654216615,-0.3295887882036928,0.44039095506688625,-1.172328084879566,0.18390526650709063,-0.2568686121159804]\",\n          \"[0.05585927348285587,0.5149978155620497,0.6476814758498021,0.3239431211946717,0.4731267945295884,-0.8797621685782576,-1.0050063454733171,-0.2568686121159804]\",\n          \"[-0.6720541567161884,-0.867127475978207,1.08364172870624,-0.02684974193827327,-0.09975039606770102,1.1211797232681926,-0.030882166050474988,-0.2568686121159804]\"\n        ],\n        \"semantic_type\": \"\",\n        \"description\": \"\"\n      }\n    },\n    {\n      \"column\": \"label\",\n      \"properties\": {\n        \"dtype\": \"number\",\n        \"std\": 17.070671504968566,\n        \"min\": 2.33,\n        \"max\": 82.6,\n        \"num_unique_values\": 624,\n        \"samples\": [\n          17.44,\n          38.21,\n          40.23\n        ],\n        \"semantic_type\": \"\",\n        \"description\": \"\"\n      }\n    }\n  ]\n}"
            }
          },
          "metadata": {},
          "execution_count": 26
        }
      ]
    },
    {
      "cell_type": "markdown",
      "source": [
        "# Algorithmes de régression"
      ],
      "metadata": {
        "id": "HbZyZ42XYOZh"
      }
    },
    {
      "cell_type": "markdown",
      "source": [
        "# **1. Régression linéaire**"
      ],
      "metadata": {
        "id": "_714hp_gYQCE"
      }
    },
    {
      "cell_type": "code",
      "source": [
        "from pyspark.ml.regression import LinearRegression"
      ],
      "metadata": {
        "id": "UJIVhjwzXP-F"
      },
      "execution_count": 27,
      "outputs": []
    },
    {
      "cell_type": "code",
      "source": [
        "# Création du modèle\n",
        "lr_regressor = LinearRegression()\n",
        "lr_model = lr_regressor.fit(train_data)"
      ],
      "metadata": {
        "id": "vyZRQHPLXQBW"
      },
      "execution_count": 28,
      "outputs": []
    },
    {
      "cell_type": "code",
      "source": [
        "# Evaluation\n",
        "evaluator_r2 = RegressionEvaluator(metricName=\"r2\")\n",
        "evaluator_mse = RegressionEvaluator(metricName=\"mse\")"
      ],
      "metadata": {
        "id": "E5YbkJLLXQEf"
      },
      "execution_count": 29,
      "outputs": []
    },
    {
      "cell_type": "code",
      "source": [
        "# Prédictions avec la régression linéaire\n",
        "lr_predictions = lr_model.transform(train_data)"
      ],
      "metadata": {
        "id": "NAkNbP1uXQHn"
      },
      "execution_count": 30,
      "outputs": []
    },
    {
      "cell_type": "code",
      "source": [
        "# Affichage des métriques d'évaluation (R-carré et MSE)\n",
        "r2_lr = evaluator_r2.evaluate(lr_predictions)\n",
        "print(\"R-carré (régression linéaire):\", r2_lr)\n",
        "mse_lr = evaluator_mse.evaluate(lr_predictions)\n",
        "print(\"MSE (régression linéaire):\", mse_lr)"
      ],
      "metadata": {
        "colab": {
          "base_uri": "https://localhost:8080/"
        },
        "id": "InYcC89XXQKS",
        "outputId": "81862369-e91f-4f1c-a409-f8fd8f076843"
      },
      "execution_count": 31,
      "outputs": [
        {
          "output_type": "stream",
          "name": "stdout",
          "text": [
            "R-carré (régression linéaire): 0.6283189927948849\n",
            "MSE (régression linéaire): 108.1627886266966\n"
          ]
        }
      ]
    },
    {
      "cell_type": "markdown",
      "source": [
        "# **2. Régression avec Decision Tree**"
      ],
      "metadata": {
        "id": "MQzflTpqYc0l"
      }
    },
    {
      "cell_type": "code",
      "source": [
        "from pyspark.ml.regression import DecisionTreeRegressor"
      ],
      "metadata": {
        "id": "oLZb_QPE61uW"
      },
      "execution_count": 32,
      "outputs": []
    },
    {
      "cell_type": "code",
      "source": [
        "# Paramètre de profondeur maximale de l'arbre\n",
        "paramGrid = ParamGridBuilder().addGrid(DecisionTreeRegressor.maxDepth, [2, 3, 4]).build()"
      ],
      "metadata": {
        "id": "LSzo1J8L63h0"
      },
      "execution_count": 33,
      "outputs": []
    },
    {
      "cell_type": "code",
      "source": [
        "# Cross-validation\n",
        "tree_cv = CrossValidator(estimator=DecisionTreeRegressor(), estimatorParamMaps=paramGrid, evaluator=evaluator_r2, numFolds=3)\n"
      ],
      "metadata": {
        "id": "Rl5JQpYb67jJ"
      },
      "execution_count": 34,
      "outputs": []
    },
    {
      "cell_type": "code",
      "source": [
        "# Ajustement du modèle\n",
        "tree_model = tree_cv.fit(train_data)"
      ],
      "metadata": {
        "id": "un3tf_Ma6_uV"
      },
      "execution_count": 35,
      "outputs": []
    },
    {
      "cell_type": "code",
      "source": [
        "# Sélection du meilleur modèle\n",
        "best_tree_model = tree_model.bestModel"
      ],
      "metadata": {
        "id": "1tmwn6RZ7Cqk"
      },
      "execution_count": 36,
      "outputs": []
    },
    {
      "cell_type": "code",
      "source": [
        "# Prédictions avec le meilleur modèle Decision Tree\n",
        "tree_predictions = best_tree_model.transform(train_data)"
      ],
      "metadata": {
        "id": "XexzhYr17E6E"
      },
      "execution_count": 37,
      "outputs": []
    },
    {
      "cell_type": "code",
      "source": [
        "# Affichage du R-carré du meilleur modèle Decision Tree\n",
        "best_tree_r2 = evaluator_r2.evaluate(tree_predictions)\n",
        "print(\"R-carré (meilleur modèle Decision Tree):\", best_tree_r2)\n"
      ],
      "metadata": {
        "colab": {
          "base_uri": "https://localhost:8080/"
        },
        "id": "7pOGBNMY0315",
        "outputId": "8db4d3cc-6ee9-4e81-e3de-d0fb7247d30d"
      },
      "execution_count": 38,
      "outputs": [
        {
          "output_type": "stream",
          "name": "stdout",
          "text": [
            "R-carré (meilleur modèle Decision Tree): 0.8046651715872161\n"
          ]
        }
      ]
    },
    {
      "cell_type": "markdown",
      "source": [
        "# **3. Régression Isotonique**"
      ],
      "metadata": {
        "id": "-WGN-6NjYtJf"
      }
    },
    {
      "cell_type": "code",
      "source": [
        "from pyspark.ml.regression import IsotonicRegression"
      ],
      "metadata": {
        "id": "MIpJUfkV9CYX"
      },
      "execution_count": 39,
      "outputs": []
    },
    {
      "cell_type": "code",
      "source": [
        "# Paramètre de régularisation (alpha)\n",
        "paramGrid = ParamGridBuilder().addGrid(IsotonicRegression.isotonic, [True, False]).build()"
      ],
      "metadata": {
        "id": "MsotAPF69D9N"
      },
      "execution_count": 40,
      "outputs": []
    },
    {
      "cell_type": "code",
      "source": [
        "# Cross-validation\n",
        "iso_cv = CrossValidator(estimator=IsotonicRegression(), estimatorParamMaps=paramGrid, evaluator=evaluator_r2, numFolds=3)\n"
      ],
      "metadata": {
        "id": "YJvbUZbi9GRq"
      },
      "execution_count": 41,
      "outputs": []
    },
    {
      "cell_type": "code",
      "source": [
        "# Ajustement du modèle\n",
        "iso_model = iso_cv.fit(train_data)"
      ],
      "metadata": {
        "id": "jsvP2M_99IP9"
      },
      "execution_count": 42,
      "outputs": []
    },
    {
      "cell_type": "code",
      "source": [
        "# Sélection du meilleur modèle\n",
        "best_iso_model = iso_model.bestModel"
      ],
      "metadata": {
        "id": "ubbzqLS-9JuQ"
      },
      "execution_count": 43,
      "outputs": []
    },
    {
      "cell_type": "code",
      "source": [
        "# Prédictions avec le meilleur modèle Isotonic Regression\n",
        "iso_predictions = best_iso_model.transform(train_data)"
      ],
      "metadata": {
        "id": "YE1N_em79Lwx"
      },
      "execution_count": 44,
      "outputs": []
    },
    {
      "cell_type": "code",
      "source": [
        "# Affichage du R-carré du meilleur modèle Isotonic Regression\n",
        "best_iso_r2 = evaluator_r2.evaluate(iso_predictions)\n",
        "print(\"R-carré (meilleur modèle Isotonic Regression):\", best_iso_r2)\n"
      ],
      "metadata": {
        "colab": {
          "base_uri": "https://localhost:8080/"
        },
        "id": "l9B57MjD82lz",
        "outputId": "ad2db385-622d-4a51-ee5a-dc9c45d93003"
      },
      "execution_count": 45,
      "outputs": [
        {
          "output_type": "stream",
          "name": "stdout",
          "text": [
            "R-carré (meilleur modèle Isotonic Regression): 0.29633685289968625\n"
          ]
        }
      ]
    },
    {
      "cell_type": "markdown",
      "source": [
        "# **4. Random Forest**"
      ],
      "metadata": {
        "id": "8TE2ftVpY7E-"
      }
    },
    {
      "cell_type": "code",
      "source": [
        "from pyspark.ml.regression import RandomForestRegressor\n"
      ],
      "metadata": {
        "id": "zM8VP9IJY9I-"
      },
      "execution_count": 46,
      "outputs": []
    },
    {
      "cell_type": "code",
      "source": [
        "# Paramètre du nombre d'arbres\n",
        "paramGrid = ParamGridBuilder().addGrid(RandomForestRegressor.numTrees, [100, 200, 500]).build()\n"
      ],
      "metadata": {
        "id": "lGGF3FXUY9-7"
      },
      "execution_count": 47,
      "outputs": []
    },
    {
      "cell_type": "code",
      "source": [
        "# Cross-validation\n",
        "rf_cv = CrossValidator(estimator=RandomForestRegressor(), estimatorParamMaps=paramGrid, evaluator=evaluator_r2, numFolds=3)\n"
      ],
      "metadata": {
        "id": "wSo9FRtEY98h"
      },
      "execution_count": 48,
      "outputs": []
    },
    {
      "cell_type": "code",
      "source": [
        "# Ajustement du modèle\n",
        "rf_model = rf_cv.fit(train_data)\n"
      ],
      "metadata": {
        "id": "z8Dngjv7Y96j"
      },
      "execution_count": 49,
      "outputs": []
    },
    {
      "cell_type": "code",
      "source": [
        "# Sélection du meilleur modèle\n",
        "best_rf_model = rf_model.bestModel\n"
      ],
      "metadata": {
        "id": "FvxOTYLXY922"
      },
      "execution_count": 50,
      "outputs": []
    },
    {
      "cell_type": "code",
      "source": [
        "# Prédictions avec le meilleur modèle Random Forest\n",
        "rf_predictions = best_rf_model.transform(train_data)\n"
      ],
      "metadata": {
        "id": "RtNrCuUkY9z_"
      },
      "execution_count": 51,
      "outputs": []
    },
    {
      "cell_type": "code",
      "source": [
        "# Affichage du R-carré du meilleur modèle Random Forest\n",
        "best_rf_r2 = evaluator_r2.evaluate(rf_predictions)\n",
        "print(\"R-carré (meilleur modèle Random Forest):\", best_rf_r2)\n"
      ],
      "metadata": {
        "colab": {
          "base_uri": "https://localhost:8080/"
        },
        "id": "rY7HcecvY9xC",
        "outputId": "cfa5b27e-b924-418c-8554-d9b67abc6664"
      },
      "execution_count": 52,
      "outputs": [
        {
          "output_type": "stream",
          "name": "stdout",
          "text": [
            "R-carré (meilleur modèle Random Forest): 0.8532781438142442\n"
          ]
        }
      ]
    },
    {
      "cell_type": "markdown",
      "source": [
        "# **5. Gradient Boosting**"
      ],
      "metadata": {
        "id": "AXLPZeubZJ0p"
      }
    },
    {
      "cell_type": "code",
      "source": [
        "from pyspark.ml.regression import GBTRegressor"
      ],
      "metadata": {
        "id": "4o7OHTZZY9ug"
      },
      "execution_count": 53,
      "outputs": []
    },
    {
      "cell_type": "code",
      "source": [
        "# Paramètre de la profondeur maximale des arbres\n",
        "paramGrid = ParamGridBuilder().addGrid(GBTRegressor.maxDepth, [3, 5, 8]).build()\n"
      ],
      "metadata": {
        "id": "3mXidEmpY9rm"
      },
      "execution_count": 54,
      "outputs": []
    },
    {
      "cell_type": "code",
      "source": [
        "# Cross-validation\n",
        "gb_cv = CrossValidator(estimator=GBTRegressor(), estimatorParamMaps=paramGrid, evaluator=evaluator_r2, numFolds=3)\n"
      ],
      "metadata": {
        "id": "C760P04oY9md"
      },
      "execution_count": 55,
      "outputs": []
    },
    {
      "cell_type": "code",
      "source": [
        "# Ajustement du modèle\n",
        "gb_model = gb_cv.fit(train_data)\n"
      ],
      "metadata": {
        "id": "8Kgf0cyIY9jO"
      },
      "execution_count": 56,
      "outputs": []
    },
    {
      "cell_type": "code",
      "source": [
        "# Sélection du meilleur modèle\n",
        "best_gb_model = gb_model.bestModel\n"
      ],
      "metadata": {
        "id": "2N0HLyDwZQ6m"
      },
      "execution_count": 57,
      "outputs": []
    },
    {
      "cell_type": "code",
      "source": [
        "# Prédictions avec le meilleur modèle Gradient Boosting\n",
        "gb_predictions = best_gb_model.transform(train_data)\n"
      ],
      "metadata": {
        "id": "AFpXYcljZQ3L"
      },
      "execution_count": 58,
      "outputs": []
    },
    {
      "cell_type": "code",
      "source": [
        "# Affichage du R-carré du meilleur modèle Gradient Boosting\n",
        "best_gb_r2 = evaluator_r2.evaluate(gb_predictions)\n",
        "print(\"R-carré (meilleur modèle Gradient Boosting):\", best_gb_r2)\n"
      ],
      "metadata": {
        "colab": {
          "base_uri": "https://localhost:8080/"
        },
        "id": "HGHCfyGYZQ0Z",
        "outputId": "b7c16799-58fd-4b0d-b3ea-44bc8d817a09"
      },
      "execution_count": 59,
      "outputs": [
        {
          "output_type": "stream",
          "name": "stdout",
          "text": [
            "R-carré (meilleur modèle Gradient Boosting): 0.9552266559983826\n"
          ]
        }
      ]
    },
    {
      "cell_type": "code",
      "source": [
        "# Comparaison des performances des modèles\n",
        "print(\"R-carré des modèles:\")\n",
        "print(\"-\" * 20)\n",
        "print(f\"Régression linéaire: {r2_lr}\")\n",
        "print(f\"Meilleur modèle Decision Tree: {best_tree_r2}\")\n",
        "print(f\"Meilleur modèle Régression Isotonique: {best_iso_r2}\")\n",
        "print(f\"Meilleur modèle Random Forest: {best_rf_r2}\")\n",
        "print(f\"Meilleur modèle Gradient Boosting: {best_gb_r2}\")\n"
      ],
      "metadata": {
        "colab": {
          "base_uri": "https://localhost:8080/"
        },
        "id": "iw5obv-rZQxj",
        "outputId": "78fdf7ba-9dcd-4ac7-bc10-ae65af7bc6bd"
      },
      "execution_count": 60,
      "outputs": [
        {
          "output_type": "stream",
          "name": "stdout",
          "text": [
            "R-carré des modèles:\n",
            "--------------------\n",
            "Régression linéaire: 0.6283189927948849\n",
            "Meilleur modèle Decision Tree: 0.8046651715872161\n",
            "Meilleur modèle Régression Isotonique: 0.29633685289968625\n",
            "Meilleur modèle Random Forest: 0.8532781438142442\n",
            "Meilleur modèle Gradient Boosting: 0.9552266559983826\n"
          ]
        }
      ]
    },
    {
      "cell_type": "markdown",
      "source": [
        "# **Le meilleur modèle : Gradient Boosting**"
      ],
      "metadata": {
        "id": "iNU_n7qcOExW"
      }
    },
    {
      "cell_type": "code",
      "source": [
        "\n",
        "from pyspark.ml.regression import GBTRegressor\n",
        "from pyspark.sql import SparkSession\n"
      ],
      "metadata": {
        "id": "_ltzIgmjN-7-"
      },
      "execution_count": 61,
      "outputs": []
    },
    {
      "cell_type": "code",
      "source": [
        "# Sélection du meilleur modèle\n",
        "best_gb_model = gb_model.bestModel"
      ],
      "metadata": {
        "id": "DkpTmpSzONJV"
      },
      "execution_count": 62,
      "outputs": []
    },
    {
      "cell_type": "code",
      "source": [
        "# Affichage des importances des variables\n",
        "gbt_featureImportances = best_gb_model.featureImportances.toArray()\n",
        "imp_scores = []\n",
        "numeric_inputs = ['cement', 'slag', 'flyash', 'water', 'superplasticizer', 'coarseaggregate', 'fineaggregate', 'age']\n",
        "for x in gbt_featureImportances:\n",
        "  imp_scores.append(float(x))"
      ],
      "metadata": {
        "id": "R_36lQ0qOPDm"
      },
      "execution_count": 63,
      "outputs": []
    },
    {
      "cell_type": "code",
      "source": [
        "# Création d'un DataFrame pour afficher les importances des variables\n",
        "result = spark.createDataFrame(zip(numeric_inputs, imp_scores), schema=[\"features\", \"score\"])\n",
        "print(result.orderBy(result[\"score\"].desc()).show(truncate=False))"
      ],
      "metadata": {
        "colab": {
          "base_uri": "https://localhost:8080/"
        },
        "id": "ZaC6QjVJOQ2q",
        "outputId": "e00f916d-b92d-456e-f826-f63f2bc456b9"
      },
      "execution_count": 64,
      "outputs": [
        {
          "output_type": "stream",
          "name": "stdout",
          "text": [
            "+----------------+--------------------+\n",
            "|features        |score               |\n",
            "+----------------+--------------------+\n",
            "|age             |0.2803447469739218  |\n",
            "|cement          |0.23436999112424156 |\n",
            "|water           |0.11736454299828429 |\n",
            "|slag            |0.11420958302356582 |\n",
            "|fineaggregate   |0.09821674394184006 |\n",
            "|superplasticizer|0.07098007767118576 |\n",
            "|coarseaggregate |0.06351287802438395 |\n",
            "|flyash          |0.021001436242576797|\n",
            "+----------------+--------------------+\n",
            "\n",
            "None\n"
          ]
        }
      ]
    },
    {
      "cell_type": "code",
      "source": [
        "# Prédictions avec le meilleur modèle Gradient Boosting\n",
        "gb_predictions = best_gb_model.transform(train_data)"
      ],
      "metadata": {
        "id": "cNdMDVLxOSOM"
      },
      "execution_count": 65,
      "outputs": []
    },
    {
      "cell_type": "code",
      "source": [
        "# Affichage des prédictions\n",
        "print(\"Prédictions :\")\n",
        "gb_predictions.show()"
      ],
      "metadata": {
        "colab": {
          "base_uri": "https://localhost:8080/"
        },
        "id": "WvlO5VVMOUFw",
        "outputId": "87e54f35-d83e-4894-d9d5-5cd003c256ab"
      },
      "execution_count": 66,
      "outputs": [
        {
          "output_type": "stream",
          "name": "stdout",
          "text": [
            "Prédictions :\n",
            "+--------------------+-----+------------------+\n",
            "|            features|label|        prediction|\n",
            "+--------------------+-----+------------------+\n",
            "|[-1.7377891123666...| 7.68| 6.505047669801113|\n",
            "|[-1.7377891123666...|17.28|18.621206404595718|\n",
            "|[-1.7377891123666...|25.46| 27.41606387027266|\n",
            "|[-1.6768070031877...| 2.33| 4.938830677981402|\n",
            "|[-1.6768070031877...| 7.72|  8.57404743486597|\n",
            "|[-1.6768070031877...|20.59|21.977694956555645|\n",
            "|[-1.6768070031877...|29.23|28.537519485437638|\n",
            "|[-1.6022733141912...|10.09| 9.325892247331563|\n",
            "|[-1.6022733141912...|22.35|21.642629012043194|\n",
            "|[-1.5383872950514...|10.35|10.878982136964563|\n",
            "|[-1.5383872950514...|24.29|24.282629658654233|\n",
            "|[-1.5383872950514...|33.19| 32.56178975656213|\n",
            "|[-1.4473981162766...| 33.3| 32.28159309235297|\n",
            "|[-1.4377184164069...| 6.88| 8.557619795489298|\n",
            "|[-1.4377184164069...|27.87| 24.87226053451204|\n",
            "|[-1.4377184164069...|36.59|32.812260965229655|\n",
            "|[-1.4377184164069...|31.03|30.032121565270124|\n",
            "|[-1.4212629266285...|13.29|13.244780717948622|\n",
            "|[-1.4183590166676...|13.29|13.244780717948622|\n",
            "|[-1.4183590166676...|21.91|21.268323491869946|\n",
            "+--------------------+-----+------------------+\n",
            "only showing top 20 rows\n",
            "\n"
          ]
        }
      ]
    },
    {
      "cell_type": "code",
      "source": [
        "# Affichage du R-carré du meilleur modèle Gradient Boosting\n",
        "best_gb_r2 = evaluator_r2.evaluate(gb_predictions)\n",
        "print(\"R-carré (meilleur modèle Gradient Boosting):\", best_gb_r2)\n"
      ],
      "metadata": {
        "colab": {
          "base_uri": "https://localhost:8080/"
        },
        "id": "9scCcfE-NymB",
        "outputId": "e45c96be-1d34-4fcc-d790-e72dcee7ab2b"
      },
      "execution_count": 67,
      "outputs": [
        {
          "output_type": "stream",
          "name": "stdout",
          "text": [
            "R-carré (meilleur modèle Gradient Boosting): 0.9552266559983826\n"
          ]
        }
      ]
    },
    {
      "cell_type": "markdown",
      "source": [
        "# Conclusion\n",
        "\n",
        "Le meilleur modèle en termes de R-carré est le **Gradient Boosting**."
      ],
      "metadata": {
        "id": "uEDH_3FrPVpt"
      }
    }
  ]
}